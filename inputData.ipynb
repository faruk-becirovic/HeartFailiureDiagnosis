{
 "cells": [
  {
   "cell_type": "code",
   "execution_count": 1,
   "metadata": {},
   "outputs": [],
   "source": [
    "import os\n",
    "import json\n",
    "\n",
    "import numpy as np\n",
    "import pandas as pd\n",
    "\n",
    "DIR = r'/home/faruk/Projects/HeartFailiureDiagnosis/'"
   ]
  },
  {
   "cell_type": "code",
   "execution_count": 2,
   "metadata": {},
   "outputs": [],
   "source": [
    "zdravi = pd.read_csv('Copy of Final - baza zdravih osoba.xlsx - List 1.csv')\n",
    "#df = d.values"
   ]
  },
  {
   "cell_type": "code",
   "execution_count": 3,
   "metadata": {},
   "outputs": [
    {
     "data": {
      "text/html": [
       "<div>\n",
       "<style scoped>\n",
       "    .dataframe tbody tr th:only-of-type {\n",
       "        vertical-align: middle;\n",
       "    }\n",
       "\n",
       "    .dataframe tbody tr th {\n",
       "        vertical-align: top;\n",
       "    }\n",
       "\n",
       "    .dataframe thead th {\n",
       "        text-align: right;\n",
       "    }\n",
       "</style>\n",
       "<table border=\"1\" class=\"dataframe\">\n",
       "  <thead>\n",
       "    <tr style=\"text-align: right;\">\n",
       "      <th></th>\n",
       "      <th>Godine</th>\n",
       "      <th>Spol</th>\n",
       "      <th>HOPB</th>\n",
       "      <th>Troponin</th>\n",
       "      <th>CystatinC</th>\n",
       "      <th>CA125</th>\n",
       "      <th>LAV</th>\n",
       "      <th>PAP</th>\n",
       "      <th>MR</th>\n",
       "      <th>TR</th>\n",
       "      <th>E/e\"</th>\n",
       "      <th>TAPSE</th>\n",
       "      <th>df</th>\n",
       "      <th>Kreatinin</th>\n",
       "      <th>eGFR</th>\n",
       "      <th>HGB</th>\n",
       "      <th>Na</th>\n",
       "      <th>Holesterol</th>\n",
       "      <th>Albumini</th>\n",
       "      <th>CKD</th>\n",
       "    </tr>\n",
       "  </thead>\n",
       "  <tbody>\n",
       "    <tr>\n",
       "      <th>0</th>\n",
       "      <td>82</td>\n",
       "      <td>1</td>\n",
       "      <td>1</td>\n",
       "      <td>14</td>\n",
       "      <td>0,34</td>\n",
       "      <td>21</td>\n",
       "      <td>12</td>\n",
       "      <td>9</td>\n",
       "      <td>3</td>\n",
       "      <td>1</td>\n",
       "      <td>2</td>\n",
       "      <td>21</td>\n",
       "      <td>0</td>\n",
       "      <td>82,9</td>\n",
       "      <td>114</td>\n",
       "      <td>159</td>\n",
       "      <td>137</td>\n",
       "      <td>1,3</td>\n",
       "      <td>44</td>\n",
       "      <td>1</td>\n",
       "    </tr>\n",
       "    <tr>\n",
       "      <th>1</th>\n",
       "      <td>80</td>\n",
       "      <td>2</td>\n",
       "      <td>1</td>\n",
       "      <td>14</td>\n",
       "      <td>0,31</td>\n",
       "      <td>12</td>\n",
       "      <td>21</td>\n",
       "      <td>34</td>\n",
       "      <td>4</td>\n",
       "      <td>1</td>\n",
       "      <td>5</td>\n",
       "      <td>19</td>\n",
       "      <td>0</td>\n",
       "      <td>92,8</td>\n",
       "      <td>100</td>\n",
       "      <td>163</td>\n",
       "      <td>140</td>\n",
       "      <td>2,5</td>\n",
       "      <td>46</td>\n",
       "      <td>1</td>\n",
       "    </tr>\n",
       "    <tr>\n",
       "      <th>2</th>\n",
       "      <td>42</td>\n",
       "      <td>1</td>\n",
       "      <td>2</td>\n",
       "      <td>14</td>\n",
       "      <td>0,22</td>\n",
       "      <td>0</td>\n",
       "      <td>5</td>\n",
       "      <td>38</td>\n",
       "      <td>4</td>\n",
       "      <td>4</td>\n",
       "      <td>7</td>\n",
       "      <td>21</td>\n",
       "      <td>0</td>\n",
       "      <td>100,0</td>\n",
       "      <td>88</td>\n",
       "      <td>163</td>\n",
       "      <td>136</td>\n",
       "      <td>4,2</td>\n",
       "      <td>49</td>\n",
       "      <td>2</td>\n",
       "    </tr>\n",
       "    <tr>\n",
       "      <th>3</th>\n",
       "      <td>43</td>\n",
       "      <td>1</td>\n",
       "      <td>1</td>\n",
       "      <td>14</td>\n",
       "      <td>0,34</td>\n",
       "      <td>19</td>\n",
       "      <td>6</td>\n",
       "      <td>15</td>\n",
       "      <td>3</td>\n",
       "      <td>3</td>\n",
       "      <td>21</td>\n",
       "      <td>21</td>\n",
       "      <td>0</td>\n",
       "      <td>116,1</td>\n",
       "      <td>97</td>\n",
       "      <td>156</td>\n",
       "      <td>141</td>\n",
       "      <td>1,2</td>\n",
       "      <td>43</td>\n",
       "      <td>1</td>\n",
       "    </tr>\n",
       "    <tr>\n",
       "      <th>4</th>\n",
       "      <td>44</td>\n",
       "      <td>2</td>\n",
       "      <td>2</td>\n",
       "      <td>14</td>\n",
       "      <td>0,65</td>\n",
       "      <td>1</td>\n",
       "      <td>26</td>\n",
       "      <td>34</td>\n",
       "      <td>4</td>\n",
       "      <td>2</td>\n",
       "      <td>17</td>\n",
       "      <td>20</td>\n",
       "      <td>0</td>\n",
       "      <td>82,5</td>\n",
       "      <td>127</td>\n",
       "      <td>154</td>\n",
       "      <td>139</td>\n",
       "      <td>3,3</td>\n",
       "      <td>38</td>\n",
       "      <td>1</td>\n",
       "    </tr>\n",
       "  </tbody>\n",
       "</table>\n",
       "</div>"
      ],
      "text/plain": [
       "   Godine  Spol  HOPB  Troponin CystatinC  CA125  LAV  PAP  MR  TR  E/e\"  \\\n",
       "0      82     1     1        14      0,34     21   12    9   3   1     2   \n",
       "1      80     2     1        14      0,31     12   21   34   4   1     5   \n",
       "2      42     1     2        14      0,22      0    5   38   4   4     7   \n",
       "3      43     1     1        14      0,34     19    6   15   3   3    21   \n",
       "4      44     2     2        14      0,65      1   26   34   4   2    17   \n",
       "\n",
       "   TAPSE  df Kreatinin  eGFR  HGB   Na Holesterol  Albumini  CKD  \n",
       "0     21   0      82,9   114  159  137        1,3        44    1  \n",
       "1     19   0      92,8   100  163  140        2,5        46    1  \n",
       "2     21   0     100,0    88  163  136        4,2        49    2  \n",
       "3     21   0     116,1    97  156  141        1,2        43    1  \n",
       "4     20   0      82,5   127  154  139        3,3        38    1  "
      ]
     },
     "metadata": {},
     "output_type": "display_data"
    }
   ],
   "source": [
    "display(zdravi.head())"
   ]
  },
  {
   "cell_type": "code",
   "execution_count": 4,
   "metadata": {},
   "outputs": [],
   "source": [
    "pacijenti = pd.read_csv('Copy of HF baza pacijenata-uređeno.xlsx - List 1.csv')\n",
    "#pacijenti.rename(columns = {'spol m-1, z-2':'spol m-1, z-2'}, inplace = True)"
   ]
  },
  {
   "cell_type": "code",
   "execution_count": 5,
   "metadata": {},
   "outputs": [
    {
     "data": {
      "text/html": [
       "<div>\n",
       "<style scoped>\n",
       "    .dataframe tbody tr th:only-of-type {\n",
       "        vertical-align: middle;\n",
       "    }\n",
       "\n",
       "    .dataframe tbody tr th {\n",
       "        vertical-align: top;\n",
       "    }\n",
       "\n",
       "    .dataframe thead th {\n",
       "        text-align: right;\n",
       "    }\n",
       "</style>\n",
       "<table border=\"1\" class=\"dataframe\">\n",
       "  <thead>\n",
       "    <tr style=\"text-align: right;\">\n",
       "      <th></th>\n",
       "      <th>godine</th>\n",
       "      <th>spo</th>\n",
       "      <th>HOPB</th>\n",
       "      <th>Troponin</th>\n",
       "      <th>CystatinC</th>\n",
       "      <th>CA125</th>\n",
       "      <th>LAV</th>\n",
       "      <th>PAP</th>\n",
       "      <th>MR</th>\n",
       "      <th>TR</th>\n",
       "      <th>E/e\"</th>\n",
       "      <th>df</th>\n",
       "      <th>TAPSE</th>\n",
       "      <th>kreatinin</th>\n",
       "      <th>eGFR</th>\n",
       "      <th>CKD</th>\n",
       "      <th>HGB</th>\n",
       "      <th>Na</th>\n",
       "      <th>holesterol</th>\n",
       "      <th>albumini</th>\n",
       "    </tr>\n",
       "  </thead>\n",
       "  <tbody>\n",
       "    <tr>\n",
       "      <th>0</th>\n",
       "      <td>78</td>\n",
       "      <td>1</td>\n",
       "      <td>2.0</td>\n",
       "      <td>430</td>\n",
       "      <td>2,28</td>\n",
       "      <td>469,7</td>\n",
       "      <td>100</td>\n",
       "      <td>40.0</td>\n",
       "      <td>2, 0</td>\n",
       "      <td>1</td>\n",
       "      <td>12.0</td>\n",
       "      <td>2.0</td>\n",
       "      <td>9.0</td>\n",
       "      <td>209</td>\n",
       "      <td>28</td>\n",
       "      <td>4</td>\n",
       "      <td>137</td>\n",
       "      <td>131.0</td>\n",
       "      <td>4,7</td>\n",
       "      <td>32.0</td>\n",
       "    </tr>\n",
       "    <tr>\n",
       "      <th>1</th>\n",
       "      <td>54</td>\n",
       "      <td>2</td>\n",
       "      <td>2.0</td>\n",
       "      <td>20,7</td>\n",
       "      <td>1,05</td>\n",
       "      <td>253,9</td>\n",
       "      <td>60</td>\n",
       "      <td>41.0</td>\n",
       "      <td>2</td>\n",
       "      <td>2</td>\n",
       "      <td>7.0</td>\n",
       "      <td>1.0</td>\n",
       "      <td>18.0</td>\n",
       "      <td>73</td>\n",
       "      <td>77</td>\n",
       "      <td>2</td>\n",
       "      <td>147</td>\n",
       "      <td>140.0</td>\n",
       "      <td>3,5</td>\n",
       "      <td>33.0</td>\n",
       "    </tr>\n",
       "    <tr>\n",
       "      <th>2</th>\n",
       "      <td>63</td>\n",
       "      <td>1</td>\n",
       "      <td>2.0</td>\n",
       "      <td>55</td>\n",
       "      <td>1,97</td>\n",
       "      <td>251,6</td>\n",
       "      <td>124</td>\n",
       "      <td>40.0</td>\n",
       "      <td>2</td>\n",
       "      <td>1</td>\n",
       "      <td>12.0</td>\n",
       "      <td>2.0</td>\n",
       "      <td>18.0</td>\n",
       "      <td>138</td>\n",
       "      <td>48</td>\n",
       "      <td>3a</td>\n",
       "      <td>115</td>\n",
       "      <td>138.0</td>\n",
       "      <td>3,4</td>\n",
       "      <td>27.0</td>\n",
       "    </tr>\n",
       "    <tr>\n",
       "      <th>3</th>\n",
       "      <td>80</td>\n",
       "      <td>1</td>\n",
       "      <td>2.0</td>\n",
       "      <td>724</td>\n",
       "      <td>2,12</td>\n",
       "      <td>234,1</td>\n",
       "      <td>89</td>\n",
       "      <td>40.0</td>\n",
       "      <td>2</td>\n",
       "      <td>2</td>\n",
       "      <td>17.0</td>\n",
       "      <td>3.0</td>\n",
       "      <td>10.0</td>\n",
       "      <td>154</td>\n",
       "      <td>40</td>\n",
       "      <td>3b</td>\n",
       "      <td>128</td>\n",
       "      <td>143.0</td>\n",
       "      <td>4,8</td>\n",
       "      <td>34.0</td>\n",
       "    </tr>\n",
       "    <tr>\n",
       "      <th>4</th>\n",
       "      <td>57</td>\n",
       "      <td>2</td>\n",
       "      <td>2.0</td>\n",
       "      <td>67</td>\n",
       "      <td>1,39</td>\n",
       "      <td>489</td>\n",
       "      <td>68</td>\n",
       "      <td>30.0</td>\n",
       "      <td>1</td>\n",
       "      <td>1</td>\n",
       "      <td>6.0</td>\n",
       "      <td>1.0</td>\n",
       "      <td>14.0</td>\n",
       "      <td>55</td>\n",
       "      <td>105</td>\n",
       "      <td>1</td>\n",
       "      <td>135</td>\n",
       "      <td>139.0</td>\n",
       "      <td>3,7</td>\n",
       "      <td>26.0</td>\n",
       "    </tr>\n",
       "  </tbody>\n",
       "</table>\n",
       "</div>"
      ],
      "text/plain": [
       "   godine  spo  HOPB Troponin CystatinC  CA125  LAV   PAP    MR TR  E/e\"   df  \\\n",
       "0      78    1   2.0      430      2,28  469,7  100  40.0  2, 0  1  12.0  2.0   \n",
       "1      54    2   2.0     20,7      1,05  253,9   60  41.0     2  2   7.0  1.0   \n",
       "2      63    1   2.0       55      1,97  251,6  124  40.0     2  1  12.0  2.0   \n",
       "3      80    1   2.0      724      2,12  234,1   89  40.0     2  2  17.0  3.0   \n",
       "4      57    2   2.0       67      1,39    489   68  30.0     1  1   6.0  1.0   \n",
       "\n",
       "   TAPSE  kreatinin  eGFR CKD  HGB     Na holesterol  albumini  \n",
       "0    9.0        209    28   4  137  131.0        4,7      32.0  \n",
       "1   18.0         73    77   2  147  140.0        3,5      33.0  \n",
       "2   18.0        138    48  3a  115  138.0        3,4      27.0  \n",
       "3   10.0        154    40  3b  128  143.0        4,8      34.0  \n",
       "4   14.0         55   105   1  135  139.0        3,7      26.0  "
      ]
     },
     "metadata": {},
     "output_type": "display_data"
    }
   ],
   "source": [
    "display(pacijenti.head())"
   ]
  },
  {
   "cell_type": "code",
   "execution_count": 6,
   "metadata": {},
   "outputs": [],
   "source": [
    "zdravi['status'] = 0\n",
    "pacijenti['status'] = 1"
   ]
  },
  {
   "cell_type": "code",
   "execution_count": 7,
   "metadata": {},
   "outputs": [],
   "source": [
    "zd_godine = zdravi['Godine'].values\n",
    "pc_godine = pacijenti['godine'].values"
   ]
  },
  {
   "cell_type": "code",
   "execution_count": 8,
   "metadata": {},
   "outputs": [],
   "source": [
    "godine = np.concatenate([zd_godine, pc_godine])"
   ]
  },
  {
   "cell_type": "code",
   "execution_count": 9,
   "metadata": {},
   "outputs": [],
   "source": [
    "spol = np.concatenate([zdravi['Spol'].values, pacijenti['spo'].values])"
   ]
  },
  {
   "cell_type": "code",
   "execution_count": 10,
   "metadata": {},
   "outputs": [],
   "source": [
    "hopb = np.concatenate([zdravi['HOPB'].values, pacijenti['HOPB'].values])"
   ]
  },
  {
   "cell_type": "code",
   "execution_count": 11,
   "metadata": {},
   "outputs": [
    {
     "data": {
      "text/html": [
       "<div>\n",
       "<style scoped>\n",
       "    .dataframe tbody tr th:only-of-type {\n",
       "        vertical-align: middle;\n",
       "    }\n",
       "\n",
       "    .dataframe tbody tr th {\n",
       "        vertical-align: top;\n",
       "    }\n",
       "\n",
       "    .dataframe thead th {\n",
       "        text-align: right;\n",
       "    }\n",
       "</style>\n",
       "<table border=\"1\" class=\"dataframe\">\n",
       "  <thead>\n",
       "    <tr style=\"text-align: right;\">\n",
       "      <th></th>\n",
       "      <th>godine</th>\n",
       "      <th>spo</th>\n",
       "      <th>HOPB</th>\n",
       "      <th>Troponin</th>\n",
       "      <th>CystatinC</th>\n",
       "      <th>CA125</th>\n",
       "      <th>LAV</th>\n",
       "      <th>PAP</th>\n",
       "      <th>MR</th>\n",
       "      <th>TR</th>\n",
       "      <th>...</th>\n",
       "      <th>df</th>\n",
       "      <th>TAPSE</th>\n",
       "      <th>kreatinin</th>\n",
       "      <th>eGFR</th>\n",
       "      <th>CKD</th>\n",
       "      <th>HGB</th>\n",
       "      <th>Na</th>\n",
       "      <th>holesterol</th>\n",
       "      <th>albumini</th>\n",
       "      <th>status</th>\n",
       "    </tr>\n",
       "  </thead>\n",
       "  <tbody>\n",
       "    <tr>\n",
       "      <th>0</th>\n",
       "      <td>78</td>\n",
       "      <td>1</td>\n",
       "      <td>2.0</td>\n",
       "      <td>430</td>\n",
       "      <td>2,28</td>\n",
       "      <td>469,7</td>\n",
       "      <td>100</td>\n",
       "      <td>40.0</td>\n",
       "      <td>2, 0</td>\n",
       "      <td>1</td>\n",
       "      <td>...</td>\n",
       "      <td>2.0</td>\n",
       "      <td>9.0</td>\n",
       "      <td>209</td>\n",
       "      <td>28</td>\n",
       "      <td>4</td>\n",
       "      <td>137</td>\n",
       "      <td>131.0</td>\n",
       "      <td>4,7</td>\n",
       "      <td>32.0</td>\n",
       "      <td>1</td>\n",
       "    </tr>\n",
       "    <tr>\n",
       "      <th>1</th>\n",
       "      <td>54</td>\n",
       "      <td>2</td>\n",
       "      <td>2.0</td>\n",
       "      <td>20,7</td>\n",
       "      <td>1,05</td>\n",
       "      <td>253,9</td>\n",
       "      <td>60</td>\n",
       "      <td>41.0</td>\n",
       "      <td>2</td>\n",
       "      <td>2</td>\n",
       "      <td>...</td>\n",
       "      <td>1.0</td>\n",
       "      <td>18.0</td>\n",
       "      <td>73</td>\n",
       "      <td>77</td>\n",
       "      <td>2</td>\n",
       "      <td>147</td>\n",
       "      <td>140.0</td>\n",
       "      <td>3,5</td>\n",
       "      <td>33.0</td>\n",
       "      <td>1</td>\n",
       "    </tr>\n",
       "    <tr>\n",
       "      <th>2</th>\n",
       "      <td>63</td>\n",
       "      <td>1</td>\n",
       "      <td>2.0</td>\n",
       "      <td>55</td>\n",
       "      <td>1,97</td>\n",
       "      <td>251,6</td>\n",
       "      <td>124</td>\n",
       "      <td>40.0</td>\n",
       "      <td>2</td>\n",
       "      <td>1</td>\n",
       "      <td>...</td>\n",
       "      <td>2.0</td>\n",
       "      <td>18.0</td>\n",
       "      <td>138</td>\n",
       "      <td>48</td>\n",
       "      <td>3a</td>\n",
       "      <td>115</td>\n",
       "      <td>138.0</td>\n",
       "      <td>3,4</td>\n",
       "      <td>27.0</td>\n",
       "      <td>1</td>\n",
       "    </tr>\n",
       "    <tr>\n",
       "      <th>3</th>\n",
       "      <td>80</td>\n",
       "      <td>1</td>\n",
       "      <td>2.0</td>\n",
       "      <td>724</td>\n",
       "      <td>2,12</td>\n",
       "      <td>234,1</td>\n",
       "      <td>89</td>\n",
       "      <td>40.0</td>\n",
       "      <td>2</td>\n",
       "      <td>2</td>\n",
       "      <td>...</td>\n",
       "      <td>3.0</td>\n",
       "      <td>10.0</td>\n",
       "      <td>154</td>\n",
       "      <td>40</td>\n",
       "      <td>3b</td>\n",
       "      <td>128</td>\n",
       "      <td>143.0</td>\n",
       "      <td>4,8</td>\n",
       "      <td>34.0</td>\n",
       "      <td>1</td>\n",
       "    </tr>\n",
       "    <tr>\n",
       "      <th>4</th>\n",
       "      <td>57</td>\n",
       "      <td>2</td>\n",
       "      <td>2.0</td>\n",
       "      <td>67</td>\n",
       "      <td>1,39</td>\n",
       "      <td>489</td>\n",
       "      <td>68</td>\n",
       "      <td>30.0</td>\n",
       "      <td>1</td>\n",
       "      <td>1</td>\n",
       "      <td>...</td>\n",
       "      <td>1.0</td>\n",
       "      <td>14.0</td>\n",
       "      <td>55</td>\n",
       "      <td>105</td>\n",
       "      <td>1</td>\n",
       "      <td>135</td>\n",
       "      <td>139.0</td>\n",
       "      <td>3,7</td>\n",
       "      <td>26.0</td>\n",
       "      <td>1</td>\n",
       "    </tr>\n",
       "  </tbody>\n",
       "</table>\n",
       "<p>5 rows × 21 columns</p>\n",
       "</div>"
      ],
      "text/plain": [
       "   godine  spo  HOPB Troponin CystatinC  CA125  LAV   PAP    MR TR  ...   df  \\\n",
       "0      78    1   2.0      430      2,28  469,7  100  40.0  2, 0  1  ...  2.0   \n",
       "1      54    2   2.0     20,7      1,05  253,9   60  41.0     2  2  ...  1.0   \n",
       "2      63    1   2.0       55      1,97  251,6  124  40.0     2  1  ...  2.0   \n",
       "3      80    1   2.0      724      2,12  234,1   89  40.0     2  2  ...  3.0   \n",
       "4      57    2   2.0       67      1,39    489   68  30.0     1  1  ...  1.0   \n",
       "\n",
       "   TAPSE  kreatinin  eGFR  CKD  HGB     Na  holesterol albumini  status  \n",
       "0    9.0        209    28    4  137  131.0         4,7     32.0       1  \n",
       "1   18.0         73    77    2  147  140.0         3,5     33.0       1  \n",
       "2   18.0        138    48   3a  115  138.0         3,4     27.0       1  \n",
       "3   10.0        154    40   3b  128  143.0         4,8     34.0       1  \n",
       "4   14.0         55   105    1  135  139.0         3,7     26.0       1  \n",
       "\n",
       "[5 rows x 21 columns]"
      ]
     },
     "metadata": {},
     "output_type": "display_data"
    }
   ],
   "source": [
    "display(pacijenti.head())"
   ]
  },
  {
   "cell_type": "code",
   "execution_count": 12,
   "metadata": {},
   "outputs": [],
   "source": [
    "troponin = np.concatenate([zdravi['Troponin'].values, pacijenti['Troponin'].values])\n",
    "hopb = np.concatenate([zdravi['CystatinC'].values, pacijenti['CystatinC'].values])\n",
    "ca125 = np.concatenate([zdravi['CA125'].values, pacijenti['CA125'].values])\n",
    "lav = np.concatenate([zdravi['LAV'].values, pacijenti['LAV'].values])\n",
    "pap = np.concatenate([zdravi['PAP'].values, pacijenti['PAP'].values])\n",
    "mr = np.concatenate([zdravi['MR'].values, pacijenti['MR'].values])\n",
    "tr = np.concatenate([zdravi['TR'].values, pacijenti['TR'].values])\n",
    "df = np.concatenate([zdravi['df'].values, pacijenti['df'].values])\n",
    "tapse = np.concatenate([zdravi['TAPSE'].values, pacijenti['TAPSE'].values])\n",
    "kreatinin = np.concatenate([zdravi['Kreatinin'].values, pacijenti['kreatinin'].values])\n",
    "egfr = np.concatenate([zdravi['eGFR'].values, pacijenti['eGFR'].values])\n",
    "ckd = np.concatenate([zdravi['HGB'].values, pacijenti['CKD'].values])\n",
    "hgb = np.concatenate([zdravi['Na'].values, pacijenti['HGB'].values])\n",
    "na = np.concatenate([zdravi['Holesterol'].values, pacijenti['Na'].values])\n",
    "holesterol = np.concatenate([zdravi['Albumini'].values, pacijenti['holesterol'].values])\n",
    "albumini = np.concatenate([zdravi['CKD'].values, pacijenti['albumini'].values])\n",
    "status = np.concatenate([zdravi['status'].values, pacijenti['status'].values])"
   ]
  },
  {
   "cell_type": "code",
   "execution_count": 35,
   "metadata": {},
   "outputs": [
    {
     "data": {
      "text/plain": [
       "384"
      ]
     },
     "execution_count": 35,
     "metadata": {},
     "output_type": "execute_result"
    }
   ],
   "source": [
    "len(troponin)"
   ]
  },
  {
   "cell_type": "code",
   "execution_count": 103,
   "metadata": {},
   "outputs": [
    {
     "data": {
      "text/plain": [
       "221"
      ]
     },
     "execution_count": 103,
     "metadata": {},
     "output_type": "execute_result"
    }
   ],
   "source": [
    "155 + 33 + 33"
   ]
  },
  {
   "cell_type": "code",
   "execution_count": 39,
   "metadata": {},
   "outputs": [
    {
     "data": {
      "text/plain": [
       "162"
      ]
     },
     "execution_count": 39,
     "metadata": {},
     "output_type": "execute_result"
    }
   ],
   "source": [
    "len(zdravi)"
   ]
  },
  {
   "cell_type": "code",
   "execution_count": 20,
   "metadata": {},
   "outputs": [],
   "source": [
    "train_zdr = 113\n",
    "train_pac = 155\n",
    "test_zdr = 24\n",
    "test_pas = 33\n",
    "\n",
    "train_set_pac = []\n",
    "train_set_zdr = []\n"
   ]
  },
  {
   "cell_type": "code",
   "execution_count": 21,
   "metadata": {},
   "outputs": [],
   "source": [
    "for i in range(0, train_zdr):\n",
    "    train_set_zdr.append((\n",
    "        godine[i],\n",
    "        spol[i],\n",
    "        hopb[i],\n",
    "        troponin[i],\n",
    "        hopb[i],\n",
    "        lav[i],\n",
    "        pap[i],\n",
    "        mr[i],\n",
    "        tr[i],\n",
    "        df[i],\n",
    "        tapse[i],\n",
    "        kreatinin[i],\n",
    "        egfr[i],\n",
    "        ckd[i],\n",
    "        hgb[i],\n",
    "        na[i],\n",
    "        holesterol[i],\n",
    "        albumini[i],\n",
    "    ))"
   ]
  },
  {
   "cell_type": "code",
   "execution_count": 22,
   "metadata": {},
   "outputs": [
    {
     "name": "stdout",
     "output_type": "stream",
     "text": [
      "113\n"
     ]
    }
   ],
   "source": [
    "print(len(train_set_zdr))"
   ]
  },
  {
   "cell_type": "code",
   "execution_count": 24,
   "metadata": {},
   "outputs": [],
   "source": [
    "for i in range(229, len(godine)):\n",
    "    train_set_pac.append((\n",
    "        godine[i],\n",
    "        spol[i],\n",
    "        hopb[i],\n",
    "        troponin[i],\n",
    "        hopb[i],\n",
    "        lav[i],\n",
    "        pap[i],\n",
    "        mr[i],\n",
    "        tr[i],\n",
    "        df[i],\n",
    "        tapse[i],\n",
    "        kreatinin[i],\n",
    "        egfr[i],\n",
    "        ckd[i],\n",
    "        hgb[i],\n",
    "        na[i],\n",
    "        holesterol[i],\n",
    "        albumini[i],\n",
    "    ))"
   ]
  },
  {
   "cell_type": "code",
   "execution_count": 25,
   "metadata": {},
   "outputs": [
    {
     "name": "stdout",
     "output_type": "stream",
     "text": [
      "155\n"
     ]
    }
   ],
   "source": [
    "print(len(train_set_pac))"
   ]
  },
  {
   "cell_type": "code",
   "execution_count": 26,
   "metadata": {},
   "outputs": [],
   "source": [
    "verification_set_zdr = []\n",
    "verification_set_pac = []\n",
    "test_set_zdr = []\n",
    "test_set_pac = []"
   ]
  },
  {
   "cell_type": "code",
   "execution_count": 27,
   "metadata": {},
   "outputs": [],
   "source": [
    "for i in range(train_zdr, train_zdr+test_zdr):\n",
    "    verification_set_zdr.append((\n",
    "        godine[i],\n",
    "        spol[i],\n",
    "        hopb[i],\n",
    "        troponin[i],\n",
    "        hopb[i],\n",
    "        lav[i],\n",
    "        pap[i],\n",
    "        mr[i],\n",
    "        tr[i],\n",
    "        df[i],\n",
    "        tapse[i],\n",
    "        kreatinin[i],\n",
    "        egfr[i],\n",
    "        ckd[i],\n",
    "        hgb[i],\n",
    "        na[i],\n",
    "        holesterol[i],\n",
    "        albumini[i],\n",
    "    ))"
   ]
  },
  {
   "cell_type": "code",
   "execution_count": 28,
   "metadata": {},
   "outputs": [],
   "source": [
    "for i in range(196, 229):\n",
    "    verification_set_pac.append((\n",
    "        godine[i],\n",
    "        spol[i],\n",
    "        hopb[i],\n",
    "        troponin[i],\n",
    "        hopb[i],\n",
    "        lav[i],\n",
    "        pap[i],\n",
    "        mr[i],\n",
    "        tr[i],\n",
    "        df[i],\n",
    "        tapse[i],\n",
    "        kreatinin[i],\n",
    "        egfr[i],\n",
    "        ckd[i],\n",
    "        hgb[i],\n",
    "        na[i],\n",
    "        holesterol[i],\n",
    "        albumini[i],\n",
    "    ))"
   ]
  },
  {
   "cell_type": "code",
   "execution_count": 29,
   "metadata": {},
   "outputs": [
    {
     "name": "stdout",
     "output_type": "stream",
     "text": [
      "33\n",
      "24\n"
     ]
    }
   ],
   "source": [
    "print(len(verification_set_pac))\n",
    "print(len(verification_set_zdr))"
   ]
  },
  {
   "cell_type": "code",
   "execution_count": 30,
   "metadata": {},
   "outputs": [],
   "source": [
    "for i in range(train_zdr+test_zdr, train_zdr+2*test_zdr):\n",
    "    test_set_zdr.append((\n",
    "        godine[i],\n",
    "        spol[i],\n",
    "        hopb[i],\n",
    "        troponin[i],\n",
    "        hopb[i],\n",
    "        lav[i],\n",
    "        pap[i],\n",
    "        mr[i],\n",
    "        tr[i],\n",
    "        df[i],\n",
    "        tapse[i],\n",
    "        kreatinin[i],\n",
    "        egfr[i],\n",
    "        ckd[i],\n",
    "        hgb[i],\n",
    "        na[i],\n",
    "        holesterol[i],\n",
    "        albumini[i],\n",
    "    ))"
   ]
  },
  {
   "cell_type": "code",
   "execution_count": 31,
   "metadata": {},
   "outputs": [],
   "source": [
    "for i in range(163, 196):\n",
    "    test_set_pac.append((\n",
    "        godine[i],\n",
    "        spol[i],\n",
    "        hopb[i],\n",
    "        troponin[i],\n",
    "        hopb[i],\n",
    "        lav[i],\n",
    "        pap[i],\n",
    "        mr[i],\n",
    "        tr[i],\n",
    "        df[i],\n",
    "        tapse[i],\n",
    "        kreatinin[i],\n",
    "        egfr[i],\n",
    "        ckd[i],\n",
    "        hgb[i],\n",
    "        na[i],\n",
    "        holesterol[i],\n",
    "        albumini[i],\n",
    "    ))"
   ]
  },
  {
   "cell_type": "code",
   "execution_count": 32,
   "metadata": {},
   "outputs": [
    {
     "name": "stdout",
     "output_type": "stream",
     "text": [
      "33\n",
      "24\n"
     ]
    }
   ],
   "source": [
    "print(len(test_set_pac))\n",
    "print(len(test_set_zdr))"
   ]
  },
  {
   "cell_type": "code",
   "execution_count": 34,
   "metadata": {},
   "outputs": [],
   "source": [
    "train_set = train_set_pac + train_set_zdr\n",
    "verification_set = verification_set_zdr + verification_set_pac\n",
    "test_set = test_set_pac + test_set_zdr"
   ]
  },
  {
   "cell_type": "code",
   "execution_count": 36,
   "metadata": {},
   "outputs": [
    {
     "name": "stdout",
     "output_type": "stream",
     "text": [
      "268\n",
      "57\n",
      "57\n"
     ]
    }
   ],
   "source": [
    "print(len(train_set))\n",
    "print(len(verification_set))\n",
    "print(len(test_set))"
   ]
  },
  {
   "cell_type": "code",
   "execution_count": 39,
   "metadata": {},
   "outputs": [
    {
     "name": "stdout",
     "output_type": "stream",
     "text": [
      "2\n"
     ]
    }
   ],
   "source": [
    "print(pacijenti.ndim)"
   ]
  },
  {
   "cell_type": "code",
   "execution_count": null,
   "metadata": {},
   "outputs": [],
   "source": []
  }
 ],
 "metadata": {
  "kernelspec": {
   "display_name": "hf_diagnosis",
   "language": "python",
   "name": "python3"
  },
  "language_info": {
   "codemirror_mode": {
    "name": "ipython",
    "version": 3
   },
   "file_extension": ".py",
   "mimetype": "text/x-python",
   "name": "python",
   "nbconvert_exporter": "python",
   "pygments_lexer": "ipython3",
   "version": "3.11.4"
  },
  "orig_nbformat": 4
 },
 "nbformat": 4,
 "nbformat_minor": 2
}
